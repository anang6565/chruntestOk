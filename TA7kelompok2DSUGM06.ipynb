{
 "cells": [
  {
   "cell_type": "code",
   "execution_count": 19,
   "id": "06e1c91b",
   "metadata": {},
   "outputs": [],
   "source": [
    "#!jupyter nbextension enable --py widgetsnbextension --sys-prefix\n",
    "#!jupyter serverextension enable voila --sys-prefix"
   ]
  },
  {
   "cell_type": "code",
   "execution_count": 20,
   "id": "21037c68",
   "metadata": {},
   "outputs": [
    {
     "data": {
      "text/plain": [
       "Customer                     81\n",
       "umur berlangganan            81\n",
       "tipe layanan                 81\n",
       "lama kontrak                 81\n",
       "Layanan IPTV                 81\n",
       "layanan add on               81\n",
       "tagihan bulanan             450\n",
       "besar dowload perbulan       81\n",
       "Nilai kepuasan pelanggan     81\n",
       "keterangan churn             81\n",
       "dtype: int64"
      ]
     },
     "execution_count": 20,
     "metadata": {},
     "output_type": "execute_result"
    }
   ],
   "source": [
    "import pandas as pd\n",
    "import numpy as np\n",
    "import seaborn as sns\n",
    "data = pd.read_excel(\"customer_churn_data.xlsx\", engine='openpyxl')\n",
    "data.isnull().sum()"
   ]
  },
  {
   "cell_type": "code",
   "execution_count": 21,
   "id": "7ba93303",
   "metadata": {},
   "outputs": [
    {
     "data": {
      "text/plain": [
       "Customer                    81\n",
       "umur berlangganan           81\n",
       "tipe layanan                81\n",
       "lama kontrak                81\n",
       "Layanan IPTV                81\n",
       "layanan add on              81\n",
       "tagihan bulanan              0\n",
       "besar dowload perbulan      81\n",
       "Nilai kepuasan pelanggan    81\n",
       "keterangan churn            81\n",
       "dtype: int64"
      ]
     },
     "execution_count": 21,
     "metadata": {},
     "output_type": "execute_result"
    }
   ],
   "source": [
    "rata_tagihan_bulanan = data['tagihan bulanan'].mean()\n",
    "data['tagihan bulanan'] = data['tagihan bulanan'].fillna(rata_tagihan_bulanan)\n",
    "data.isnull().sum()"
   ]
  },
  {
   "cell_type": "code",
   "execution_count": 22,
   "id": "327a42bc",
   "metadata": {},
   "outputs": [],
   "source": [
    "data.loc[data['Layanan IPTV'] == 'Yes', 'Layanan IPTVx'] = 1 \n",
    "data.loc[data['Layanan IPTV'] == 'No', 'Layanan IPTVx'] = 0 \n",
    "data.loc[data['layanan add on'] == 'Yes', 'layanan add onx'] = 1 \n",
    "data.loc[data['layanan add on'] == 'No', 'layanan add onx'] = 0 \n",
    "data.loc[data['keterangan churn'] == 'Yes', 'keterangan churnx'] = 1 \n",
    "data.loc[data['keterangan churn'] == 'No', 'keterangan churnx'] = 0 \n",
    "data.loc[data['tipe layanan'] == 'INDIHOME 3P', 'tipe layananx'] = 3 \n",
    "data.loc[data['tipe layanan'] == 'INDIHOME 2P', 'tipe layananx'] = 2 \n",
    "data.loc[data['tipe layanan'] == 'INDIHOME 1P', 'tipe layananx'] = 1\n",
    "data.loc[data['lama kontrak'] == 'One Year', 'lama kontrakx'] = 1 \n",
    "data.loc[data['lama kontrak'] == 'Two Year', 'lama kontrakx'] = 2\n",
    "data.loc[data['lama kontrak'] == 'Month-to-Month', 'lama kontrakx'] = 3 "
   ]
  },
  {
   "cell_type": "code",
   "execution_count": 23,
   "id": "a2e79779",
   "metadata": {},
   "outputs": [
    {
     "name": "stdout",
     "output_type": "stream",
     "text": [
      "      Customer   umur berlangganan tipe layanan    lama kontrak Layanan IPTV  \\\n",
      "0           1.0                9.0  INDIHOME 3P        One Year          Yes   \n",
      "1           2.0                9.0  INDIHOME 3P  Month-to-Month          Yes   \n",
      "2           3.0                9.0  INDIHOME 3P  Month-to-Month          Yes   \n",
      "3           4.0               71.0  INDIHOME 2P        Two Year           No   \n",
      "4           5.0               63.0  INDIHOME 3P        Two Year          Yes   \n",
      "...         ...                ...          ...             ...          ...   \n",
      "7119     7043.0               22.0  INDIHOME 2P  Month-to-Month          Yes   \n",
      "7120     7043.0               22.0  INDIHOME 2P  Month-to-Month          Yes   \n",
      "7121     7043.0               22.0  INDIHOME 2P  Month-to-Month          Yes   \n",
      "7122     7043.0               22.0  INDIHOME 2P  Month-to-Month          Yes   \n",
      "7123     7043.0               22.0  INDIHOME 2P  Month-to-Month          Yes   \n",
      "\n",
      "     layanan add on  tagihan bulanan  besar dowload perbulan  \\\n",
      "0               Yes    407000.000000                    16.0   \n",
      "1               Yes    176000.000000                    10.0   \n",
      "2               Yes    341000.000000                    73.0   \n",
      "3               Yes    225500.000000                    14.0   \n",
      "4                No    506000.000000                     7.0   \n",
      "...             ...              ...                     ...   \n",
      "7119            Yes    316879.711417                    17.0   \n",
      "7120            Yes    316879.711417                    17.0   \n",
      "7121            Yes    316879.711417                    17.0   \n",
      "7122            Yes    316879.711417                    17.0   \n",
      "7123            Yes    316879.711417                    17.0   \n",
      "\n",
      "      Nilai kepuasan pelanggan keterangan churn  Layanan IPTVx  \\\n",
      "0                          3.0               No            1.0   \n",
      "1                          5.0               No            1.0   \n",
      "2                          1.0               No            1.0   \n",
      "3                          1.0               No            0.0   \n",
      "4                          1.0               No            1.0   \n",
      "...                        ...              ...            ...   \n",
      "7119                       3.0              Yes            1.0   \n",
      "7120                       3.0              Yes            1.0   \n",
      "7121                       3.0              Yes            1.0   \n",
      "7122                       3.0              Yes            1.0   \n",
      "7123                       3.0              Yes            1.0   \n",
      "\n",
      "      layanan add onx  keterangan churnx  tipe layananx  lama kontrakx  \n",
      "0                 1.0                0.0            3.0            1.0  \n",
      "1                 1.0                0.0            3.0            3.0  \n",
      "2                 1.0                0.0            3.0            3.0  \n",
      "3                 1.0                0.0            2.0            2.0  \n",
      "4                 0.0                0.0            3.0            2.0  \n",
      "...               ...                ...            ...            ...  \n",
      "7119              1.0                1.0            2.0            3.0  \n",
      "7120              1.0                1.0            2.0            3.0  \n",
      "7121              1.0                1.0            2.0            3.0  \n",
      "7122              1.0                1.0            2.0            3.0  \n",
      "7123              1.0                1.0            2.0            3.0  \n",
      "\n",
      "[7124 rows x 15 columns]\n"
     ]
    }
   ],
   "source": [
    "data = data.fillna(method='ffill')\n",
    "print(data)"
   ]
  },
  {
   "cell_type": "code",
   "execution_count": 24,
   "id": "4a37edfb",
   "metadata": {},
   "outputs": [],
   "source": [
    "cdf = data[['umur berlangganan','tagihan bulanan','besar dowload perbulan']]"
   ]
  },
  {
   "cell_type": "code",
   "execution_count": 25,
   "id": "4be04054",
   "metadata": {},
   "outputs": [],
   "source": [
    "means = cdf.mean(axis = 0)\n",
    "max_min = cdf.max(axis = 0) - cdf.min(axis = 0)\n",
    "train_scaled = (cdf - means) / max_min"
   ]
  },
  {
   "cell_type": "code",
   "execution_count": 26,
   "id": "9de85c8d",
   "metadata": {},
   "outputs": [
    {
     "data": {
      "text/html": [
       "<div>\n",
       "<style scoped>\n",
       "    .dataframe tbody tr th:only-of-type {\n",
       "        vertical-align: middle;\n",
       "    }\n",
       "\n",
       "    .dataframe tbody tr th {\n",
       "        vertical-align: top;\n",
       "    }\n",
       "\n",
       "    .dataframe thead th {\n",
       "        text-align: right;\n",
       "    }\n",
       "</style>\n",
       "<table border=\"1\" class=\"dataframe\">\n",
       "  <thead>\n",
       "    <tr style=\"text-align: right;\">\n",
       "      <th></th>\n",
       "      <th>umur berlangganan</th>\n",
       "      <th>tagihan bulanan</th>\n",
       "      <th>besar dowload perbulan</th>\n",
       "    </tr>\n",
       "  </thead>\n",
       "  <tbody>\n",
       "    <tr>\n",
       "      <td>0</td>\n",
       "      <td>-0.327728</td>\n",
       "      <td>4.223069e-02</td>\n",
       "      <td>-0.052652</td>\n",
       "    </tr>\n",
       "    <tr>\n",
       "      <td>1</td>\n",
       "      <td>-0.327728</td>\n",
       "      <td>-6.601673e-02</td>\n",
       "      <td>-0.123240</td>\n",
       "    </tr>\n",
       "    <tr>\n",
       "      <td>2</td>\n",
       "      <td>-0.327728</td>\n",
       "      <td>1.130285e-02</td>\n",
       "      <td>0.617936</td>\n",
       "    </tr>\n",
       "    <tr>\n",
       "      <td>3</td>\n",
       "      <td>0.545512</td>\n",
       "      <td>-4.282086e-02</td>\n",
       "      <td>-0.076182</td>\n",
       "    </tr>\n",
       "    <tr>\n",
       "      <td>4</td>\n",
       "      <td>0.432836</td>\n",
       "      <td>8.862244e-02</td>\n",
       "      <td>-0.158535</td>\n",
       "    </tr>\n",
       "    <tr>\n",
       "      <td>...</td>\n",
       "      <td>...</td>\n",
       "      <td>...</td>\n",
       "      <td>...</td>\n",
       "    </tr>\n",
       "    <tr>\n",
       "      <td>7119</td>\n",
       "      <td>-0.144629</td>\n",
       "      <td>-1.445645e-15</td>\n",
       "      <td>-0.040887</td>\n",
       "    </tr>\n",
       "    <tr>\n",
       "      <td>7120</td>\n",
       "      <td>-0.144629</td>\n",
       "      <td>-1.445645e-15</td>\n",
       "      <td>-0.040887</td>\n",
       "    </tr>\n",
       "    <tr>\n",
       "      <td>7121</td>\n",
       "      <td>-0.144629</td>\n",
       "      <td>-1.445645e-15</td>\n",
       "      <td>-0.040887</td>\n",
       "    </tr>\n",
       "    <tr>\n",
       "      <td>7122</td>\n",
       "      <td>-0.144629</td>\n",
       "      <td>-1.445645e-15</td>\n",
       "      <td>-0.040887</td>\n",
       "    </tr>\n",
       "    <tr>\n",
       "      <td>7123</td>\n",
       "      <td>-0.144629</td>\n",
       "      <td>-1.445645e-15</td>\n",
       "      <td>-0.040887</td>\n",
       "    </tr>\n",
       "  </tbody>\n",
       "</table>\n",
       "<p>7124 rows × 3 columns</p>\n",
       "</div>"
      ],
      "text/plain": [
       "      umur berlangganan  tagihan bulanan  besar dowload perbulan\n",
       "0             -0.327728     4.223069e-02               -0.052652\n",
       "1             -0.327728    -6.601673e-02               -0.123240\n",
       "2             -0.327728     1.130285e-02                0.617936\n",
       "3              0.545512    -4.282086e-02               -0.076182\n",
       "4              0.432836     8.862244e-02               -0.158535\n",
       "...                 ...              ...                     ...\n",
       "7119          -0.144629    -1.445645e-15               -0.040887\n",
       "7120          -0.144629    -1.445645e-15               -0.040887\n",
       "7121          -0.144629    -1.445645e-15               -0.040887\n",
       "7122          -0.144629    -1.445645e-15               -0.040887\n",
       "7123          -0.144629    -1.445645e-15               -0.040887\n",
       "\n",
       "[7124 rows x 3 columns]"
      ]
     },
     "execution_count": 26,
     "metadata": {},
     "output_type": "execute_result"
    }
   ],
   "source": [
    "train_scaled"
   ]
  },
  {
   "cell_type": "code",
   "execution_count": 27,
   "id": "87725ef7",
   "metadata": {},
   "outputs": [],
   "source": [
    "cdf1=data[['Nilai kepuasan pelanggan','Layanan IPTVx','layanan add onx', 'tipe layananx','lama kontrakx']]"
   ]
  },
  {
   "cell_type": "code",
   "execution_count": 28,
   "id": "4382ed19",
   "metadata": {},
   "outputs": [
    {
     "name": "stdout",
     "output_type": "stream",
     "text": [
      "      Nilai kepuasan pelanggan  Layanan IPTVx  layanan add onx  tipe layananx  \\\n",
      "0                          3.0            1.0              1.0            3.0   \n",
      "1                          5.0            1.0              1.0            3.0   \n",
      "2                          1.0            1.0              1.0            3.0   \n",
      "3                          1.0            0.0              1.0            2.0   \n",
      "4                          1.0            1.0              0.0            3.0   \n",
      "...                        ...            ...              ...            ...   \n",
      "7119                       3.0            1.0              1.0            2.0   \n",
      "7120                       3.0            1.0              1.0            2.0   \n",
      "7121                       3.0            1.0              1.0            2.0   \n",
      "7122                       3.0            1.0              1.0            2.0   \n",
      "7123                       3.0            1.0              1.0            2.0   \n",
      "\n",
      "      lama kontrakx  \n",
      "0               1.0  \n",
      "1               3.0  \n",
      "2               3.0  \n",
      "3               2.0  \n",
      "4               2.0  \n",
      "...             ...  \n",
      "7119            3.0  \n",
      "7120            3.0  \n",
      "7121            3.0  \n",
      "7122            3.0  \n",
      "7123            3.0  \n",
      "\n",
      "[7124 rows x 5 columns]\n"
     ]
    }
   ],
   "source": [
    "print(cdf1)"
   ]
  },
  {
   "cell_type": "code",
   "execution_count": 29,
   "id": "fb58e674",
   "metadata": {},
   "outputs": [],
   "source": [
    "X=pd.merge(cdf1,train_scaled, left_index=True, right_index=True)"
   ]
  },
  {
   "cell_type": "code",
   "execution_count": 30,
   "id": "a1780849",
   "metadata": {},
   "outputs": [
    {
     "name": "stdout",
     "output_type": "stream",
     "text": [
      "      Nilai kepuasan pelanggan  Layanan IPTVx  layanan add onx  tipe layananx  \\\n",
      "0                          3.0            1.0              1.0            3.0   \n",
      "1                          5.0            1.0              1.0            3.0   \n",
      "2                          1.0            1.0              1.0            3.0   \n",
      "3                          1.0            0.0              1.0            2.0   \n",
      "4                          1.0            1.0              0.0            3.0   \n",
      "...                        ...            ...              ...            ...   \n",
      "7119                       3.0            1.0              1.0            2.0   \n",
      "7120                       3.0            1.0              1.0            2.0   \n",
      "7121                       3.0            1.0              1.0            2.0   \n",
      "7122                       3.0            1.0              1.0            2.0   \n",
      "7123                       3.0            1.0              1.0            2.0   \n",
      "\n",
      "      lama kontrakx  umur berlangganan  tagihan bulanan  \\\n",
      "0               1.0          -0.327728     4.223069e-02   \n",
      "1               3.0          -0.327728    -6.601673e-02   \n",
      "2               3.0          -0.327728     1.130285e-02   \n",
      "3               2.0           0.545512    -4.282086e-02   \n",
      "4               2.0           0.432836     8.862244e-02   \n",
      "...             ...                ...              ...   \n",
      "7119            3.0          -0.144629    -1.445645e-15   \n",
      "7120            3.0          -0.144629    -1.445645e-15   \n",
      "7121            3.0          -0.144629    -1.445645e-15   \n",
      "7122            3.0          -0.144629    -1.445645e-15   \n",
      "7123            3.0          -0.144629    -1.445645e-15   \n",
      "\n",
      "      besar dowload perbulan  \n",
      "0                  -0.052652  \n",
      "1                  -0.123240  \n",
      "2                   0.617936  \n",
      "3                  -0.076182  \n",
      "4                  -0.158535  \n",
      "...                      ...  \n",
      "7119               -0.040887  \n",
      "7120               -0.040887  \n",
      "7121               -0.040887  \n",
      "7122               -0.040887  \n",
      "7123               -0.040887  \n",
      "\n",
      "[7124 rows x 8 columns]\n"
     ]
    }
   ],
   "source": [
    "print (X)"
   ]
  },
  {
   "cell_type": "code",
   "execution_count": 31,
   "id": "521fe392",
   "metadata": {},
   "outputs": [
    {
     "data": {
      "image/png": "[encoded data removed]",
      "text/plain": [
       "<Figure size 432x288 with 1 Axes>"
      ]
     },
     "metadata": {
      "needs_background": "light"
     },
     "output_type": "display_data"
    }
   ],
   "source": [
    "from sklearn.cluster import KMeans\n",
    "import matplotlib.pyplot as plt\n",
    "wcss = []\n",
    "for i in range(1, 11):\n",
    "    kmeans = KMeans(n_clusters = i, init = 'k-means++', random_state = 42)\n",
    "    kmeans.fit(X)\n",
    "    wcss.append(kmeans.inertia_)\n",
    "plt.plot(range(1, 11), wcss)\n",
    "plt.title('Elbow Method')\n",
    "plt.xlabel('Cluster Number')\n",
    "plt.ylabel('WCSS')\n",
    "plt.show()"
   ]
  },
  {
   "cell_type": "code",
   "execution_count": 32,
   "id": "f0bee70d",
   "metadata": {},
   "outputs": [],
   "source": [
    "# berdasar output metode elbow, jumlah klaster optimal adalah 6"
   ]
  },
  {
   "cell_type": "code",
   "execution_count": 33,
   "id": "31d94eb1",
   "metadata": {},
   "outputs": [],
   "source": [
    "# Menjalankan K-Means Clustering ke dataset\n",
    "kmeans = KMeans(n_clusters = 6, init = 'k-means++', random_state = 42)\n",
    "y_kmeans = kmeans.fit_predict(X)"
   ]
  },
  {
   "cell_type": "code",
   "execution_count": 34,
   "id": "f5ea4954",
   "metadata": {},
   "outputs": [
    {
     "data": {
      "image/png": "[encoded data removed]",
      "text/plain": [
       "<Figure size 432x288 with 1 Axes>"
      ]
     },
     "metadata": {
      "needs_background": "light"
     },
     "output_type": "display_data"
    }
   ],
   "source": [
    "# Visualisasi hasil clusters\n",
    "X = X.values\n",
    "plt.scatter(X[y_kmeans == 0, 0], X[y_kmeans == 0, 1], s = 100, c = 'blue', label = 'Cluster 1')\n",
    "plt.scatter(X[y_kmeans == 1, 0], X[y_kmeans == 1, 1], s = 100, c = 'red', label = 'Cluster 2')\n",
    "plt.scatter(X[y_kmeans == 2, 0], X[y_kmeans == 2, 1], s = 100, c = 'magenta', label = 'Cluster 3')\n",
    "plt.scatter(X[y_kmeans == 3, 0], X[y_kmeans == 3, 1], s = 100, c = 'cyan', label = 'Cluster 4')\n",
    "plt.scatter(X[y_kmeans == 4, 0], X[y_kmeans == 4, 1], s = 100, c = 'green', label = 'Cluster 5')\n",
    "plt.scatter(kmeans.cluster_centers_[:, 0], kmeans.cluster_centers_[:, 1], s = 300, c = 'yellow', label = 'Centroids')\n",
    "plt.title('Consumers Cluster')\n",
    "plt.xlabel('Nilai kepuasan')\n",
    "plt.ylabel('Layanan IPTV (0-1)')\n",
    "plt.legend()\n",
    "plt.show()"
   ]
  },
  {
   "cell_type": "code",
   "execution_count": 35,
   "id": "639f62d8",
   "metadata": {},
   "outputs": [],
   "source": [
    "#!pip freeze > requeriments.txt"
   ]
  },
  {
   "cell_type": "code",
   "execution_count": null,
   "id": "a3e586b0",
   "metadata": {},
   "outputs": [],
   "source": []
  }
 ],
 "metadata": {
  "kernelspec": {
   "display_name": "Python 3",
   "language": "python",
   "name": "python3"
  },
  "language_info": {
   "codemirror_mode": {
    "name": "ipython",
    "version": 3
   },
   "file_extension": ".py",
   "mimetype": "text/x-python",
   "name": "python",
   "nbconvert_exporter": "python",
   "pygments_lexer": "ipython3",
   "version": "3.7.4"
  }
 },
 "nbformat": 4,
 "nbformat_minor": 5
}
